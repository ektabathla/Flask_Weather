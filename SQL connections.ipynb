{
 "cells": [
  {
   "cell_type": "code",
   "execution_count": 149,
   "id": "3699430d",
   "metadata": {},
   "outputs": [
    {
     "name": "stdout",
     "output_type": "stream",
     "text": [
      "Requirement already satisfied: pymysql in /Users/ekta/opt/anaconda3/lib/python3.9/site-packages (1.0.2)\r\n"
     ]
    }
   ],
   "source": [
    "!pip install pymysql\n"
   ]
  },
  {
   "cell_type": "code",
   "execution_count": 150,
   "id": "fc2f8c06",
   "metadata": {},
   "outputs": [],
   "source": [
    "import pymysql as sql"
   ]
  },
  {
   "cell_type": "code",
   "execution_count": 151,
   "id": "daa56bd6",
   "metadata": {},
   "outputs": [],
   "source": [
    "con=sql.connect(host=\"localhost\",\n",
    "                port = 3306,\n",
    "                user=\"weather\",\n",
    "                   password=\"redhat\",\n",
    "                   database=\"weather_app\"\n",
    "               )\n",
    "               \n",
    "               "
   ]
  },
  {
   "cell_type": "code",
   "execution_count": 152,
   "id": "d9dfbe27",
   "metadata": {},
   "outputs": [],
   "source": [
    "cursor= con.cursor()"
   ]
  },
  {
   "cell_type": "code",
   "execution_count": 153,
   "id": "5f68e225",
   "metadata": {},
   "outputs": [],
   "source": [
    "def run_command(cmd):\n",
    "    cursor.execute(cmd)\n",
    "\n",
    "    data= cursor.fetchall()\n",
    "    for record in data:\n",
    "        print(*record,sep=\"|\\t|\")\n",
    "\n"
   ]
  },
  {
   "cell_type": "code",
   "execution_count": 154,
   "id": "230cc1ab",
   "metadata": {},
   "outputs": [
    {
     "name": "stdout",
     "output_type": "stream",
     "text": [
      "1|\t|EKTA BATHLA|\t|redhat|\t|ektabathla97@gmail.com\n",
      "2|\t|rajat|\t|rajat|\t|rajat@grass.com\n",
      "3|\t|rajat|\t|rajat|\t|rajat@grass.com\n",
      "4|\t|nidhi|\t|nidhi|\t|nidhi@gmail.com\n",
      "5|\t|rajat|\t|rajat|\t|rajat@gmail.com\n",
      "6|\t|nidhi|\t|nidhi|\t|nidhi@gmail.com\n",
      "7|\t|rajat|\t|rajat|\t|rajat@gmail.com\n",
      "8|\t|nidhi|\t|nidhi|\t|nidhi@gmail.com\n",
      "9|\t|rajat|\t|rajat|\t|rajat@gmail.com\n",
      "11|\t|rajat|\t|rajat|\t|rajat@gmail.com\n"
     ]
    }
   ],
   "source": [
    "run_command(\"SELECT * FROM weather_app.user\")"
   ]
  },
  {
   "cell_type": "code",
   "execution_count": 156,
   "id": "c1fdccb2",
   "metadata": {},
   "outputs": [
    {
     "name": "stdout",
     "output_type": "stream",
     "text": [
      "1|\t|jaipur\n",
      "1|\t|delhi\n",
      "1|\t|tonk\n",
      "1|\t|jaipur\n",
      "1|\t|delhi\n",
      "1|\t|tonk\n"
     ]
    }
   ],
   "source": [
    "run_command(\"SELECT * FROM weather_app.city\")"
   ]
  },
  {
   "cell_type": "code",
   "execution_count": 157,
   "id": "0823652d",
   "metadata": {},
   "outputs": [],
   "source": [
    "run_command(\"INSERT INTO user (name,password,email)\\\n",
    "VALUES ('rajat','rajat','rajat@gmail.com')\")"
   ]
  },
  {
   "cell_type": "code",
   "execution_count": 158,
   "id": "050bda96",
   "metadata": {},
   "outputs": [
    {
     "name": "stdout",
     "output_type": "stream",
     "text": [
      "1|\t|EKTA BATHLA|\t|redhat|\t|ektabathla97@gmail.com\n",
      "2|\t|rajat|\t|rajat|\t|rajat@grass.com\n",
      "3|\t|rajat|\t|rajat|\t|rajat@grass.com\n",
      "4|\t|nidhi|\t|nidhi|\t|nidhi@gmail.com\n",
      "5|\t|rajat|\t|rajat|\t|rajat@gmail.com\n",
      "6|\t|nidhi|\t|nidhi|\t|nidhi@gmail.com\n",
      "7|\t|rajat|\t|rajat|\t|rajat@gmail.com\n",
      "8|\t|nidhi|\t|nidhi|\t|nidhi@gmail.com\n",
      "9|\t|rajat|\t|rajat|\t|rajat@gmail.com\n",
      "11|\t|rajat|\t|rajat|\t|rajat@gmail.com\n",
      "13|\t|rajat|\t|rajat|\t|rajat@gmail.com\n"
     ]
    }
   ],
   "source": [
    "run_command(\"SELECT * FROM weather_app.user\")"
   ]
  },
  {
   "cell_type": "code",
   "execution_count": 105,
   "id": "0953df6d",
   "metadata": {},
   "outputs": [],
   "source": [
    "con.commit()"
   ]
  },
  {
   "cell_type": "code",
   "execution_count": 106,
   "id": "5049c770",
   "metadata": {},
   "outputs": [
    {
     "data": {
      "text/plain": [
       "1"
      ]
     },
     "execution_count": 106,
     "metadata": {},
     "output_type": "execute_result"
    }
   ],
   "source": [
    "cursor.execute(\"INSERT INTO user (name,password,email)\\\n",
    "VALUES (%s,%s,%s)\",(\"nidhi\",\"nidhi\",\"nidhi@gmail.com\"))"
   ]
  },
  {
   "cell_type": "code",
   "execution_count": 107,
   "id": "22bc1886",
   "metadata": {},
   "outputs": [
    {
     "name": "stdout",
     "output_type": "stream",
     "text": [
      "1|\t|EKTA BATHLA|\t|redhat|\t|ektabathla97@gmail.com\n",
      "2|\t|rajat|\t|rajat|\t|rajat@grass.com\n",
      "3|\t|rajat|\t|rajat|\t|rajat@grass.com\n",
      "4|\t|nidhi|\t|nidhi|\t|nidhi@gmail.com\n",
      "5|\t|rajat|\t|rajat|\t|rajat@gmail.com\n",
      "6|\t|nidhi|\t|nidhi|\t|nidhi@gmail.com\n",
      "7|\t|rajat|\t|rajat|\t|rajat@gmail.com\n",
      "8|\t|nidhi|\t|nidhi|\t|nidhi@gmail.com\n",
      "9|\t|rajat|\t|rajat|\t|rajat@gmail.com\n",
      "11|\t|rajat|\t|rajat|\t|rajat@gmail.com\n",
      "12|\t|nidhi|\t|nidhi|\t|nidhi@gmail.com\n"
     ]
    }
   ],
   "source": [
    "run_command(\"SELECT * FROM weather_app.user\")"
   ]
  },
  {
   "cell_type": "code",
   "execution_count": 159,
   "id": "89347509",
   "metadata": {},
   "outputs": [],
   "source": [
    "cursor.close()"
   ]
  },
  {
   "cell_type": "code",
   "execution_count": 160,
   "id": "061299fb",
   "metadata": {},
   "outputs": [],
   "source": [
    "con.close()"
   ]
  },
  {
   "cell_type": "code",
   "execution_count": 161,
   "id": "f631acd2",
   "metadata": {},
   "outputs": [],
   "source": [
    "import sqlite3 as sql\n"
   ]
  },
  {
   "cell_type": "code",
   "execution_count": 168,
   "id": "703dda7f",
   "metadata": {},
   "outputs": [],
   "source": [
    "con = sql.connect(\"weather.db\")\n"
   ]
  },
  {
   "cell_type": "code",
   "execution_count": 163,
   "id": "46b20578",
   "metadata": {},
   "outputs": [],
   "source": [
    "cursor = con.cursor()"
   ]
  },
  {
   "cell_type": "code",
   "execution_count": 170,
   "id": "60468746",
   "metadata": {
    "scrolled": true
   },
   "outputs": [
    {
     "ename": "OperationalError",
     "evalue": "no such table: user",
     "output_type": "error",
     "traceback": [
      "\u001b[0;31m---------------------------------------------------------------------------\u001b[0m",
      "\u001b[0;31mOperationalError\u001b[0m                          Traceback (most recent call last)",
      "\u001b[0;32m/var/folders/xr/p3ypqmds16z3wdrnzd927y200000gn/T/ipykernel_61133/3970427404.py\u001b[0m in \u001b[0;36m<module>\u001b[0;34m\u001b[0m\n\u001b[0;32m----> 1\u001b[0;31m \u001b[0mcursor\u001b[0m\u001b[0;34m.\u001b[0m\u001b[0mexecute\u001b[0m\u001b[0;34m(\u001b[0m\u001b[0;34m\"select * from user\"\u001b[0m\u001b[0;34m)\u001b[0m\u001b[0;34m\u001b[0m\u001b[0;34m\u001b[0m\u001b[0m\n\u001b[0m",
      "\u001b[0;31mOperationalError\u001b[0m: no such table: user"
     ]
    }
   ],
   "source": [
    "cursor.execute(\"select * from user\")"
   ]
  },
  {
   "cell_type": "code",
   "execution_count": 166,
   "id": "3d8cca4c",
   "metadata": {},
   "outputs": [
    {
     "data": {
      "text/plain": [
       "[]"
      ]
     },
     "execution_count": 166,
     "metadata": {},
     "output_type": "execute_result"
    }
   ],
   "source": [
    "cursor.fetchall()"
   ]
  },
  {
   "cell_type": "code",
   "execution_count": null,
   "id": "986e47dc",
   "metadata": {},
   "outputs": [],
   "source": []
  },
  {
   "cell_type": "code",
   "execution_count": null,
   "id": "c6529fcc",
   "metadata": {},
   "outputs": [],
   "source": []
  },
  {
   "cell_type": "code",
   "execution_count": null,
   "id": "c1f0c6fa",
   "metadata": {},
   "outputs": [],
   "source": []
  }
 ],
 "metadata": {
  "kernelspec": {
   "display_name": "Python 3 (ipykernel)",
   "language": "python",
   "name": "python3"
  },
  "language_info": {
   "codemirror_mode": {
    "name": "ipython",
    "version": 3
   },
   "file_extension": ".py",
   "mimetype": "text/x-python",
   "name": "python",
   "nbconvert_exporter": "python",
   "pygments_lexer": "ipython3",
   "version": "3.9.12"
  }
 },
 "nbformat": 4,
 "nbformat_minor": 5
}
